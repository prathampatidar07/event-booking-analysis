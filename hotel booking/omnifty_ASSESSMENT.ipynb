{
 "cells": [
  {
   "cell_type": "code",
   "execution_count": 1,
   "id": "bbbe184d",
   "metadata": {},
   "outputs": [],
   "source": [
    "import pandas as pd\n",
    "import numpy as np"
   ]
  },
  {
   "cell_type": "markdown",
   "id": "e11ce66d",
   "metadata": {},
   "source": [
    "# Data loading "
   ]
  },
  {
   "cell_type": "code",
   "execution_count": 2,
   "id": "0b313318",
   "metadata": {},
   "outputs": [],
   "source": [
    "df = pd.read_excel(r'C:\\Users\\KIIT\\OneDrive\\Desktop\\hotel booking\\DataAnalyst_Assesment_Dataset.xlsx')"
   ]
  },
  {
   "cell_type": "code",
   "execution_count": 3,
   "id": "5ff2e0f0",
   "metadata": {},
   "outputs": [
    {
     "data": {
      "text/html": [
       "<div>\n",
       "<style scoped>\n",
       "    .dataframe tbody tr th:only-of-type {\n",
       "        vertical-align: middle;\n",
       "    }\n",
       "\n",
       "    .dataframe tbody tr th {\n",
       "        vertical-align: top;\n",
       "    }\n",
       "\n",
       "    .dataframe thead th {\n",
       "        text-align: right;\n",
       "    }\n",
       "</style>\n",
       "<table border=\"1\" class=\"dataframe\">\n",
       "  <thead>\n",
       "    <tr style=\"text-align: right;\">\n",
       "      <th></th>\n",
       "      <th>Booking ID</th>\n",
       "      <th>Customer ID</th>\n",
       "      <th>Customer Name</th>\n",
       "      <th>Booking Type</th>\n",
       "      <th>Booking Date</th>\n",
       "      <th>Status</th>\n",
       "      <th>Class Type</th>\n",
       "      <th>Instructor</th>\n",
       "      <th>Time Slot</th>\n",
       "      <th>Duration (mins)</th>\n",
       "      <th>Price</th>\n",
       "      <th>Facility</th>\n",
       "      <th>Theme</th>\n",
       "      <th>Subscription Type</th>\n",
       "      <th>Service Name</th>\n",
       "      <th>Service Type</th>\n",
       "      <th>Customer Email</th>\n",
       "      <th>Customer Phone</th>\n",
       "    </tr>\n",
       "  </thead>\n",
       "  <tbody>\n",
       "    <tr>\n",
       "      <th>0</th>\n",
       "      <td>279d92c6-ce26-47c0-8915-e45b77fe20e2</td>\n",
       "      <td>00901ce3-3d86-4c97-bca2-40ccac2fb99f</td>\n",
       "      <td>Customer 1</td>\n",
       "      <td>Facility</td>\n",
       "      <td>2025-05-30</td>\n",
       "      <td>Pending</td>\n",
       "      <td>NaN</td>\n",
       "      <td>NaN</td>\n",
       "      <td>10:00:00</td>\n",
       "      <td>90.0</td>\n",
       "      <td>42.74</td>\n",
       "      <td>Party Room</td>\n",
       "      <td>NaN</td>\n",
       "      <td>NaN</td>\n",
       "      <td>Party Room</td>\n",
       "      <td>Facility</td>\n",
       "      <td>customer1@example.com</td>\n",
       "      <td>001-730-9034</td>\n",
       "    </tr>\n",
       "    <tr>\n",
       "      <th>1</th>\n",
       "      <td>415bfcbe-1a2e-4d4b-809a-4c5b606653b1</td>\n",
       "      <td>b82db986-bd52-4b07-bdd8-aa8cf2016241</td>\n",
       "      <td>Customer 2</td>\n",
       "      <td>Birthday Party</td>\n",
       "      <td>2025-05-29</td>\n",
       "      <td>Pending</td>\n",
       "      <td>NaN</td>\n",
       "      <td>NaN</td>\n",
       "      <td>NaN</td>\n",
       "      <td>NaN</td>\n",
       "      <td>182.06</td>\n",
       "      <td>Party Room</td>\n",
       "      <td>Superhero</td>\n",
       "      <td>NaN</td>\n",
       "      <td>Party Room</td>\n",
       "      <td>Birthday Party</td>\n",
       "      <td>customer2@example.com</td>\n",
       "      <td>001-537-5668</td>\n",
       "    </tr>\n",
       "    <tr>\n",
       "      <th>2</th>\n",
       "      <td>2100024b-46fc-47b5-ac1c-047d007a4723</td>\n",
       "      <td>6bbb6e83-9577-4f64-80b0-f073132d18f3</td>\n",
       "      <td>Customer 3</td>\n",
       "      <td>Birthday Party</td>\n",
       "      <td>2025-05-09</td>\n",
       "      <td>Confirmed</td>\n",
       "      <td>NaN</td>\n",
       "      <td>NaN</td>\n",
       "      <td>11:00:00</td>\n",
       "      <td>120.0</td>\n",
       "      <td>207.50</td>\n",
       "      <td>Play Area</td>\n",
       "      <td>NaN</td>\n",
       "      <td>NaN</td>\n",
       "      <td>Play Area</td>\n",
       "      <td>Facility</td>\n",
       "      <td>customer3@example.com</td>\n",
       "      <td>001-880-7769</td>\n",
       "    </tr>\n",
       "    <tr>\n",
       "      <th>3</th>\n",
       "      <td>74936def-088f-4d34-bad1-dfa76f78b704</td>\n",
       "      <td>f16f5beb-6a7d-4493-a19e-a30dbbd206e9</td>\n",
       "      <td>Customer 4</td>\n",
       "      <td>Birthday Party</td>\n",
       "      <td>2025-06-07</td>\n",
       "      <td>Pending</td>\n",
       "      <td>NaN</td>\n",
       "      <td>NaN</td>\n",
       "      <td>12:00:00</td>\n",
       "      <td>90.0</td>\n",
       "      <td>203.20</td>\n",
       "      <td>Play Area</td>\n",
       "      <td>NaN</td>\n",
       "      <td>NaN</td>\n",
       "      <td>Play Area</td>\n",
       "      <td>Birthday Party</td>\n",
       "      <td>customer4@example.com</td>\n",
       "      <td>001-491-3107</td>\n",
       "    </tr>\n",
       "    <tr>\n",
       "      <th>4</th>\n",
       "      <td>6272b4e7-a508-4ed7-bae0-21f7293287a8</td>\n",
       "      <td>eb297435-93d1-4e65-8dd4-6450922305cb</td>\n",
       "      <td>Customer 5</td>\n",
       "      <td>Class</td>\n",
       "      <td>2025-04-13</td>\n",
       "      <td>Pending</td>\n",
       "      <td>Art</td>\n",
       "      <td>NaN</td>\n",
       "      <td>15:00:00</td>\n",
       "      <td>120.0</td>\n",
       "      <td>161.14</td>\n",
       "      <td>NaN</td>\n",
       "      <td>NaN</td>\n",
       "      <td>NaN</td>\n",
       "      <td>Art</td>\n",
       "      <td>Class</td>\n",
       "      <td>customer5@example.com</td>\n",
       "      <td>001-718-3794</td>\n",
       "    </tr>\n",
       "  </tbody>\n",
       "</table>\n",
       "</div>"
      ],
      "text/plain": [
       "                             Booking ID                           Customer ID  \\\n",
       "0  279d92c6-ce26-47c0-8915-e45b77fe20e2  00901ce3-3d86-4c97-bca2-40ccac2fb99f   \n",
       "1  415bfcbe-1a2e-4d4b-809a-4c5b606653b1  b82db986-bd52-4b07-bdd8-aa8cf2016241   \n",
       "2  2100024b-46fc-47b5-ac1c-047d007a4723  6bbb6e83-9577-4f64-80b0-f073132d18f3   \n",
       "3  74936def-088f-4d34-bad1-dfa76f78b704  f16f5beb-6a7d-4493-a19e-a30dbbd206e9   \n",
       "4  6272b4e7-a508-4ed7-bae0-21f7293287a8  eb297435-93d1-4e65-8dd4-6450922305cb   \n",
       "\n",
       "  Customer Name    Booking Type Booking Date     Status Class Type Instructor  \\\n",
       "0    Customer 1        Facility   2025-05-30    Pending        NaN        NaN   \n",
       "1    Customer 2  Birthday Party   2025-05-29    Pending        NaN        NaN   \n",
       "2    Customer 3  Birthday Party   2025-05-09  Confirmed        NaN        NaN   \n",
       "3    Customer 4  Birthday Party   2025-06-07    Pending        NaN        NaN   \n",
       "4    Customer 5           Class   2025-04-13    Pending        Art        NaN   \n",
       "\n",
       "  Time Slot  Duration (mins)   Price    Facility      Theme  \\\n",
       "0  10:00:00             90.0   42.74  Party Room        NaN   \n",
       "1       NaN              NaN  182.06  Party Room  Superhero   \n",
       "2  11:00:00            120.0  207.50   Play Area        NaN   \n",
       "3  12:00:00             90.0  203.20   Play Area        NaN   \n",
       "4  15:00:00            120.0  161.14         NaN        NaN   \n",
       "\n",
       "   Subscription Type Service Name    Service Type         Customer Email  \\\n",
       "0                NaN   Party Room        Facility  customer1@example.com   \n",
       "1                NaN   Party Room  Birthday Party  customer2@example.com   \n",
       "2                NaN    Play Area        Facility  customer3@example.com   \n",
       "3                NaN    Play Area  Birthday Party  customer4@example.com   \n",
       "4                NaN          Art           Class  customer5@example.com   \n",
       "\n",
       "  Customer Phone  \n",
       "0   001-730-9034  \n",
       "1   001-537-5668  \n",
       "2   001-880-7769  \n",
       "3   001-491-3107  \n",
       "4   001-718-3794  "
      ]
     },
     "execution_count": 3,
     "metadata": {},
     "output_type": "execute_result"
    }
   ],
   "source": [
    "df.head()"
   ]
  },
  {
   "cell_type": "code",
   "execution_count": 4,
   "id": "620bc6be",
   "metadata": {},
   "outputs": [
    {
     "name": "stdout",
     "output_type": "stream",
     "text": [
      "<class 'pandas.core.frame.DataFrame'>\n",
      "RangeIndex: 1000 entries, 0 to 999\n",
      "Data columns (total 18 columns):\n",
      " #   Column             Non-Null Count  Dtype         \n",
      "---  ------             --------------  -----         \n",
      " 0   Booking ID         1000 non-null   object        \n",
      " 1   Customer ID        1000 non-null   object        \n",
      " 2   Customer Name      1000 non-null   object        \n",
      " 3   Booking Type       1000 non-null   object        \n",
      " 4   Booking Date       1000 non-null   datetime64[ns]\n",
      " 5   Status             1000 non-null   object        \n",
      " 6   Class Type         328 non-null    object        \n",
      " 7   Instructor         270 non-null    object        \n",
      " 8   Time Slot          795 non-null    object        \n",
      " 9   Duration (mins)    795 non-null    float64       \n",
      " 10  Price              1000 non-null   float64       \n",
      " 11  Facility           672 non-null    object        \n",
      " 12  Theme              273 non-null    object        \n",
      " 13  Subscription Type  0 non-null      float64       \n",
      " 14  Service Name       1000 non-null   object        \n",
      " 15  Service Type       1000 non-null   object        \n",
      " 16  Customer Email     906 non-null    object        \n",
      " 17  Customer Phone     895 non-null    object        \n",
      "dtypes: datetime64[ns](1), float64(3), object(14)\n",
      "memory usage: 140.8+ KB\n"
     ]
    }
   ],
   "source": [
    "df.info()"
   ]
  },
  {
   "cell_type": "markdown",
   "id": "484f5c63",
   "metadata": {},
   "source": [
    "# Data Cleaning"
   ]
  },
  {
   "cell_type": "code",
   "execution_count": 5,
   "id": "8ca6b7a1",
   "metadata": {},
   "outputs": [
    {
     "data": {
      "text/plain": [
       "Booking ID              0\n",
       "Customer ID             0\n",
       "Customer Name           0\n",
       "Booking Type            0\n",
       "Booking Date            0\n",
       "Status                  0\n",
       "Class Type            672\n",
       "Instructor            730\n",
       "Time Slot             205\n",
       "Duration (mins)       205\n",
       "Price                   0\n",
       "Facility              328\n",
       "Theme                 727\n",
       "Subscription Type    1000\n",
       "Service Name            0\n",
       "Service Type            0\n",
       "Customer Email         94\n",
       "Customer Phone        105\n",
       "dtype: int64"
      ]
     },
     "execution_count": 5,
     "metadata": {},
     "output_type": "execute_result"
    }
   ],
   "source": [
    "df.isnull().sum()"
   ]
  },
  {
   "cell_type": "code",
   "execution_count": 6,
   "id": "29c14272",
   "metadata": {},
   "outputs": [],
   "source": [
    "df = df.drop(columns=['Subscription Type'])\n",
    "# dropping subsctiption"
   ]
  },
  {
   "cell_type": "code",
   "execution_count": 7,
   "id": "a4f893d0",
   "metadata": {},
   "outputs": [
    {
     "name": "stdout",
     "output_type": "stream",
     "text": [
      "<class 'pandas.core.frame.DataFrame'>\n",
      "RangeIndex: 1000 entries, 0 to 999\n",
      "Data columns (total 17 columns):\n",
      " #   Column           Non-Null Count  Dtype         \n",
      "---  ------           --------------  -----         \n",
      " 0   Booking ID       1000 non-null   object        \n",
      " 1   Customer ID      1000 non-null   object        \n",
      " 2   Customer Name    1000 non-null   object        \n",
      " 3   Booking Type     1000 non-null   object        \n",
      " 4   Booking Date     1000 non-null   datetime64[ns]\n",
      " 5   Status           1000 non-null   object        \n",
      " 6   Class Type       328 non-null    object        \n",
      " 7   Instructor       270 non-null    object        \n",
      " 8   Time Slot        795 non-null    object        \n",
      " 9   Duration (mins)  795 non-null    float64       \n",
      " 10  Price            1000 non-null   float64       \n",
      " 11  Facility         672 non-null    object        \n",
      " 12  Theme            273 non-null    object        \n",
      " 13  Service Name     1000 non-null   object        \n",
      " 14  Service Type     1000 non-null   object        \n",
      " 15  Customer Email   906 non-null    object        \n",
      " 16  Customer Phone   895 non-null    object        \n",
      "dtypes: datetime64[ns](1), float64(2), object(14)\n",
      "memory usage: 132.9+ KB\n"
     ]
    }
   ],
   "source": [
    "df.info()"
   ]
  },
  {
   "cell_type": "code",
   "execution_count": 8,
   "id": "064f4525",
   "metadata": {},
   "outputs": [
    {
     "data": {
      "text/plain": [
       "Customer Email    0\n",
       "Customer Phone    0\n",
       "dtype: int64"
      ]
     },
     "execution_count": 8,
     "metadata": {},
     "output_type": "execute_result"
    }
   ],
   "source": [
    "df['Customer Email'].fillna('not provided',inplace= True)\n",
    "df['Customer Phone'].fillna('not provided',inplace= True)\n",
    "\n",
    "df[['Customer Email', 'Customer Phone']].isnull().sum()\n",
    "\n",
    "#handeling the null values in email and phone column"
   ]
  },
  {
   "cell_type": "code",
   "execution_count": 9,
   "id": "624ffcb0",
   "metadata": {},
   "outputs": [
    {
     "data": {
      "text/plain": [
       "Booking ID           0\n",
       "Customer ID          0\n",
       "Customer Name        0\n",
       "Booking Type         0\n",
       "Booking Date         0\n",
       "Status               0\n",
       "Class Type         672\n",
       "Instructor         730\n",
       "Time Slot          205\n",
       "Duration (mins)    205\n",
       "Price                0\n",
       "Facility           328\n",
       "Theme              727\n",
       "Service Name         0\n",
       "Service Type         0\n",
       "Customer Email       0\n",
       "Customer Phone       0\n",
       "dtype: int64"
      ]
     },
     "execution_count": 9,
     "metadata": {},
     "output_type": "execute_result"
    }
   ],
   "source": [
    "df.isnull().sum()"
   ]
  },
  {
   "cell_type": "code",
   "execution_count": 10,
   "id": "37aa1e96",
   "metadata": {},
   "outputs": [
    {
     "name": "stdout",
     "output_type": "stream",
     "text": [
      "Duplicate Booking IDs: 0\n",
      "Duplicate Customer IDs: 0\n"
     ]
    }
   ],
   "source": [
    "duplicate_bookings = df.duplicated(subset=['Booking ID'], keep=False)\n",
    "duplicate_customers = df.duplicated(subset=['Customer ID'], keep=False)\n",
    "\n",
    "print(\"Duplicate Booking IDs:\", duplicate_bookings.sum())\n",
    "print(\"Duplicate Customer IDs:\", duplicate_customers.sum())\n",
    "# checking if any dupicate values are there.\n"
   ]
  },
  {
   "cell_type": "code",
   "execution_count": 11,
   "id": "9f7da5aa",
   "metadata": {},
   "outputs": [],
   "source": [
    "df = df[~((df['Status'] == 'Pending') & \n",
    "          (df['Time Slot'].isna()) & \n",
    "          (df['Duration (mins)'].isna()) & \n",
    "          (df['Price'] == 0))]\n",
    "#dropping few rows with null values"
   ]
  },
  {
   "cell_type": "code",
   "execution_count": 12,
   "id": "8149f640",
   "metadata": {},
   "outputs": [
    {
     "data": {
      "text/plain": [
       "Booking ID           0\n",
       "Customer ID          0\n",
       "Customer Name        0\n",
       "Booking Type         0\n",
       "Booking Date         0\n",
       "Status               0\n",
       "Class Type         662\n",
       "Instructor         719\n",
       "Time Slot          191\n",
       "Duration (mins)    191\n",
       "Price                0\n",
       "Facility           324\n",
       "Theme              716\n",
       "Service Name         0\n",
       "Service Type         0\n",
       "Customer Email       0\n",
       "Customer Phone       0\n",
       "dtype: int64"
      ]
     },
     "execution_count": 12,
     "metadata": {},
     "output_type": "execute_result"
    }
   ],
   "source": [
    "df.isnull().sum()"
   ]
  },
  {
   "cell_type": "code",
   "execution_count": 13,
   "id": "4c8d1378",
   "metadata": {},
   "outputs": [],
   "source": [
    "df['Class Type'] = df.groupby('Service Name')['Class Type'].transform(lambda x: x.fillna(x.mode()[0] if not x.mode().empty else \"Unknown\"))\n",
    "df['Instructor'] = df.groupby('Service Name')['Instructor'].transform(lambda x: x.fillna(x.mode()[0] if not x.mode().empty else \"Unknown\"))\n",
    "#fulling null values in class type and instructor column"
   ]
  },
  {
   "cell_type": "code",
   "execution_count": 14,
   "id": "9189983e",
   "metadata": {},
   "outputs": [],
   "source": [
    "df['Facility'] = df.groupby('Service Name')['Facility'].transform(lambda x: x.fillna(x.mode()[0] if not x.mode().empty else \"Not Specified\"))\n",
    "#fulling null values in facility column"
   ]
  },
  {
   "cell_type": "code",
   "execution_count": 50,
   "id": "eb62725e",
   "metadata": {},
   "outputs": [],
   "source": [
    "df['Theme'] = df.apply(lambda x: x['Theme'] if pd.notna(x['Theme']) else \n",
    "                       (\"Default\" if x['Service Type'] != \"Birthday Party\" else \"Default Theme\"), axis=1)\n",
    "\n",
    "##fulling null values in theme column\n"
   ]
  },
  {
   "cell_type": "code",
   "execution_count": 16,
   "id": "d9e10356",
   "metadata": {},
   "outputs": [
    {
     "data": {
      "text/plain": [
       "Booking ID           0\n",
       "Customer ID          0\n",
       "Customer Name        0\n",
       "Booking Type         0\n",
       "Booking Date         0\n",
       "Status               0\n",
       "Class Type           0\n",
       "Instructor           0\n",
       "Time Slot          191\n",
       "Duration (mins)    191\n",
       "Price                0\n",
       "Facility             0\n",
       "Theme                0\n",
       "Service Name         0\n",
       "Service Type         0\n",
       "Customer Email       0\n",
       "Customer Phone       0\n",
       "dtype: int64"
      ]
     },
     "execution_count": 16,
     "metadata": {},
     "output_type": "execute_result"
    }
   ],
   "source": [
    "df.isnull().sum()"
   ]
  },
  {
   "cell_type": "code",
   "execution_count": 18,
   "id": "f06a1660",
   "metadata": {},
   "outputs": [],
   "source": [
    "df['Time Slot'] = df.groupby('Service Name')['Time Slot'].transform(lambda x: x.fillna(x.mode()[0] if not x.mode().empty else \"Unknown\"))\n",
    "df['Duration (mins)'] = df.groupby('Service Name')['Duration (mins)'].transform(lambda x: x.fillna(x.median()))\n",
    "# taking mean and mode for duration and time slot column grouping by service name.\n"
   ]
  },
  {
   "cell_type": "code",
   "execution_count": 19,
   "id": "6d44606c",
   "metadata": {},
   "outputs": [
    {
     "data": {
      "text/plain": [
       "Booking ID         0\n",
       "Customer ID        0\n",
       "Customer Name      0\n",
       "Booking Type       0\n",
       "Booking Date       0\n",
       "Status             0\n",
       "Class Type         0\n",
       "Instructor         0\n",
       "Time Slot          0\n",
       "Duration (mins)    0\n",
       "Price              0\n",
       "Facility           0\n",
       "Theme              0\n",
       "Service Name       0\n",
       "Service Type       0\n",
       "Customer Email     0\n",
       "Customer Phone     0\n",
       "dtype: int64"
      ]
     },
     "execution_count": 19,
     "metadata": {},
     "output_type": "execute_result"
    }
   ],
   "source": [
    "df.isnull().sum()"
   ]
  },
  {
   "cell_type": "code",
   "execution_count": 23,
   "id": "aa15d738",
   "metadata": {},
   "outputs": [],
   "source": [
    "df['Booking Date'] = pd.to_datetime(df['Booking Date'], errors='coerce').dt.date\n",
    "\n"
   ]
  },
  {
   "cell_type": "code",
   "execution_count": 24,
   "id": "8a515cb1",
   "metadata": {},
   "outputs": [
    {
     "name": "stdout",
     "output_type": "stream",
     "text": [
      "<class 'pandas.core.frame.DataFrame'>\n",
      "Int64Index: 986 entries, 0 to 999\n",
      "Data columns (total 17 columns):\n",
      " #   Column           Non-Null Count  Dtype  \n",
      "---  ------           --------------  -----  \n",
      " 0   Booking ID       986 non-null    object \n",
      " 1   Customer ID      986 non-null    object \n",
      " 2   Customer Name    986 non-null    object \n",
      " 3   Booking Type     986 non-null    object \n",
      " 4   Booking Date     986 non-null    object \n",
      " 5   Status           986 non-null    object \n",
      " 6   Class Type       986 non-null    object \n",
      " 7   Instructor       986 non-null    object \n",
      " 8   Time Slot        986 non-null    object \n",
      " 9   Duration (mins)  986 non-null    float64\n",
      " 10  Price            986 non-null    float64\n",
      " 11  Facility         986 non-null    object \n",
      " 12  Theme            986 non-null    object \n",
      " 13  Service Name     986 non-null    object \n",
      " 14  Service Type     986 non-null    object \n",
      " 15  Customer Email   986 non-null    object \n",
      " 16  Customer Phone   986 non-null    object \n",
      "dtypes: float64(2), object(15)\n",
      "memory usage: 138.7+ KB\n"
     ]
    }
   ],
   "source": [
    "df.info()"
   ]
  },
  {
   "cell_type": "code",
   "execution_count": 25,
   "id": "08b80e8d",
   "metadata": {},
   "outputs": [
    {
     "name": "stdout",
     "output_type": "stream",
     "text": [
      "Booking Type unique values:\n",
      " ['Facility' 'Birthday Party' 'Class'] \n",
      "\n",
      "Status unique values:\n",
      " ['Pending' 'Confirmed'] \n",
      "\n",
      "Class Type unique values:\n",
      " ['Unknown' 'Art' 'Dance' 'Gymnastics'] \n",
      "\n",
      "Instructor unique values:\n",
      " ['Unknown' 'Amanda Davis' 'Lisa Hensley' 'James Howard'] \n",
      "\n",
      "Facility unique values:\n",
      " ['Party Room' 'Play Area' 'Not Specified'] \n",
      "\n",
      "Service Type unique values:\n",
      " ['Facility' 'Birthday Party' 'Class'] \n",
      "\n"
     ]
    }
   ],
   "source": [
    "for col in ['Booking Type', 'Status', 'Class Type', 'Instructor', 'Facility', 'Service Type']:\n",
    "    print(f\"{col} unique values:\\n\", df[col].unique(), \"\\n\")\n",
    "\n",
    "    "
   ]
  },
  {
   "cell_type": "code",
   "execution_count": 26,
   "id": "8d0d9439",
   "metadata": {},
   "outputs": [],
   "source": [
    "df['Duration (mins)'] = pd.to_numeric(df['Duration (mins)'], errors='coerce')\n",
    "df['Price'] = pd.to_numeric(df['Price'], errors='coerce')\n"
   ]
  },
  {
   "cell_type": "code",
   "execution_count": 31,
   "id": "e15e5347",
   "metadata": {},
   "outputs": [],
   "source": [
    "df['Booking Date'] = pd.to_datetime(df['Booking Date'], errors='coerce')"
   ]
  },
  {
   "cell_type": "code",
   "execution_count": 27,
   "id": "ad4bce19",
   "metadata": {},
   "outputs": [],
   "source": [
    "categorical_cols = ['Booking Type', 'Status', 'Class Type', 'Instructor', 'Facility', 'Theme', 'Service Name', 'Service Type']\n",
    "df[categorical_cols] = df[categorical_cols].astype('category')\n"
   ]
  },
  {
   "cell_type": "code",
   "execution_count": 43,
   "id": "b520c7c6",
   "metadata": {},
   "outputs": [
    {
     "name": "stdout",
     "output_type": "stream",
     "text": [
      "<class 'pandas.core.frame.DataFrame'>\n",
      "Int64Index: 986 entries, 0 to 985\n",
      "Data columns (total 17 columns):\n",
      " #   Column           Non-Null Count  Dtype         \n",
      "---  ------           --------------  -----         \n",
      " 0   Booking ID       986 non-null    object        \n",
      " 1   Customer ID      986 non-null    object        \n",
      " 2   Customer Name    986 non-null    object        \n",
      " 3   Booking Type     986 non-null    category      \n",
      " 4   Booking Date     986 non-null    datetime64[ns]\n",
      " 5   Status           986 non-null    category      \n",
      " 6   Class Type       986 non-null    category      \n",
      " 7   Instructor       986 non-null    category      \n",
      " 8   Time Slot        986 non-null    object        \n",
      " 9   Duration (mins)  986 non-null    float64       \n",
      " 10  Price            986 non-null    float64       \n",
      " 11  Facility         986 non-null    category      \n",
      " 12  Theme            986 non-null    category      \n",
      " 13  Service Name     986 non-null    category      \n",
      " 14  Service Type     986 non-null    category      \n",
      " 15  Customer Email   986 non-null    object        \n",
      " 16  Customer Phone   986 non-null    object        \n",
      "dtypes: category(8), datetime64[ns](1), float64(2), object(6)\n",
      "memory usage: 86.1+ KB\n"
     ]
    }
   ],
   "source": [
    "df.info()\n"
   ]
  },
  {
   "cell_type": "code",
   "execution_count": 42,
   "id": "d64f3392",
   "metadata": {},
   "outputs": [
    {
     "data": {
      "text/html": [
       "<div>\n",
       "<style scoped>\n",
       "    .dataframe tbody tr th:only-of-type {\n",
       "        vertical-align: middle;\n",
       "    }\n",
       "\n",
       "    .dataframe tbody tr th {\n",
       "        vertical-align: top;\n",
       "    }\n",
       "\n",
       "    .dataframe thead th {\n",
       "        text-align: right;\n",
       "    }\n",
       "</style>\n",
       "<table border=\"1\" class=\"dataframe\">\n",
       "  <thead>\n",
       "    <tr style=\"text-align: right;\">\n",
       "      <th></th>\n",
       "      <th>Booking ID</th>\n",
       "      <th>Customer ID</th>\n",
       "      <th>Customer Name</th>\n",
       "      <th>Booking Type</th>\n",
       "      <th>Booking Date</th>\n",
       "      <th>Status</th>\n",
       "      <th>Class Type</th>\n",
       "      <th>Instructor</th>\n",
       "      <th>Time Slot</th>\n",
       "      <th>Duration (mins)</th>\n",
       "      <th>Price</th>\n",
       "      <th>Facility</th>\n",
       "      <th>Theme</th>\n",
       "      <th>Service Name</th>\n",
       "      <th>Service Type</th>\n",
       "      <th>Customer Email</th>\n",
       "      <th>Customer Phone</th>\n",
       "    </tr>\n",
       "  </thead>\n",
       "  <tbody>\n",
       "  </tbody>\n",
       "</table>\n",
       "</div>"
      ],
      "text/plain": [
       "Empty DataFrame\n",
       "Columns: [Booking ID, Customer ID, Customer Name, Booking Type, Booking Date, Status, Class Type, Instructor, Time Slot, Duration (mins), Price, Facility, Theme, Service Name, Service Type, Customer Email, Customer Phone]\n",
       "Index: []"
      ]
     },
     "execution_count": 42,
     "metadata": {},
     "output_type": "execute_result"
    }
   ],
   "source": [
    "avg_price_grouped = df[df['Price'] > 0].groupby(['Booking Type', 'Service Name'])['Price'].mean().reset_index()\n",
    "avg_price_grouped.rename(columns={'Price': 'Avg_Price'}, inplace=True)\n",
    "\n",
    "\n",
    "df = df.merge(avg_price_grouped, on=['Booking Type', 'Service Name'], how='left')\n",
    "\n",
    "df['Price'] = df.apply(lambda row: row['Avg_Price'] if row['Price'] == 0 else row['Price'], axis=1)\n",
    "\n",
    "df.drop(columns=['Avg_Price'], inplace=True)\n",
    "\n",
    "df[df['Price'] == 0]\n",
    "\n",
    "# filling null values in price column (by avg price).\n"
   ]
  },
  {
   "cell_type": "markdown",
   "id": "0b0361d4",
   "metadata": {},
   "source": [
    "# EDA\n"
   ]
  },
  {
   "cell_type": "code",
   "execution_count": 44,
   "id": "f59b387b",
   "metadata": {},
   "outputs": [
    {
     "data": {
      "text/html": [
       "<div>\n",
       "<style scoped>\n",
       "    .dataframe tbody tr th:only-of-type {\n",
       "        vertical-align: middle;\n",
       "    }\n",
       "\n",
       "    .dataframe tbody tr th {\n",
       "        vertical-align: top;\n",
       "    }\n",
       "\n",
       "    .dataframe thead th {\n",
       "        text-align: right;\n",
       "    }\n",
       "</style>\n",
       "<table border=\"1\" class=\"dataframe\">\n",
       "  <thead>\n",
       "    <tr style=\"text-align: right;\">\n",
       "      <th></th>\n",
       "      <th>Duration (mins)</th>\n",
       "      <th>Price</th>\n",
       "    </tr>\n",
       "  </thead>\n",
       "  <tbody>\n",
       "    <tr>\n",
       "      <th>count</th>\n",
       "      <td>986.000000</td>\n",
       "      <td>986.000000</td>\n",
       "    </tr>\n",
       "    <tr>\n",
       "      <th>mean</th>\n",
       "      <td>85.496957</td>\n",
       "      <td>157.571905</td>\n",
       "    </tr>\n",
       "    <tr>\n",
       "      <th>std</th>\n",
       "      <td>27.368634</td>\n",
       "      <td>77.877137</td>\n",
       "    </tr>\n",
       "    <tr>\n",
       "      <th>min</th>\n",
       "      <td>45.000000</td>\n",
       "      <td>15.250000</td>\n",
       "    </tr>\n",
       "    <tr>\n",
       "      <th>25%</th>\n",
       "      <td>45.000000</td>\n",
       "      <td>95.722500</td>\n",
       "    </tr>\n",
       "    <tr>\n",
       "      <th>50%</th>\n",
       "      <td>90.000000</td>\n",
       "      <td>159.477732</td>\n",
       "    </tr>\n",
       "    <tr>\n",
       "      <th>75%</th>\n",
       "      <td>120.000000</td>\n",
       "      <td>220.742500</td>\n",
       "    </tr>\n",
       "    <tr>\n",
       "      <th>max</th>\n",
       "      <td>120.000000</td>\n",
       "      <td>299.760000</td>\n",
       "    </tr>\n",
       "  </tbody>\n",
       "</table>\n",
       "</div>"
      ],
      "text/plain": [
       "       Duration (mins)       Price\n",
       "count       986.000000  986.000000\n",
       "mean         85.496957  157.571905\n",
       "std          27.368634   77.877137\n",
       "min          45.000000   15.250000\n",
       "25%          45.000000   95.722500\n",
       "50%          90.000000  159.477732\n",
       "75%         120.000000  220.742500\n",
       "max         120.000000  299.760000"
      ]
     },
     "execution_count": 44,
     "metadata": {},
     "output_type": "execute_result"
    }
   ],
   "source": [
    "df.describe()"
   ]
  },
  {
   "cell_type": "code",
   "execution_count": 45,
   "id": "fd4a7840",
   "metadata": {},
   "outputs": [
    {
     "data": {
      "text/plain": [
       "<AxesSubplot:title={'center':'Monthly Booking Trends'}>"
      ]
     },
     "execution_count": 45,
     "metadata": {},
     "output_type": "execute_result"
    },
    {
     "data": {
      "image/png": "[encoded data removed]",
      "text/plain": [
       "<Figure size 640x480 with 1 Axes>"
      ]
     },
     "metadata": {},
     "output_type": "display_data"
    }
   ],
   "source": [
    "\n",
    "df['Booking Date'] = pd.to_datetime(df['Booking Date']) \n",
    "df['Booking Date'].dt.month.value_counts().sort_index().plot(kind='bar', title=\"Monthly Booking Trends\")\n",
    "\n"
   ]
  },
  {
   "cell_type": "code",
   "execution_count": 46,
   "id": "a3755478",
   "metadata": {},
   "outputs": [
    {
     "data": {
      "text/plain": [
       "<AxesSubplot:title={'center':'Booking Type Distribution'}>"
      ]
     },
     "execution_count": 46,
     "metadata": {},
     "output_type": "execute_result"
    },
    {
     "data": {
      "image/png": "[encoded data removed]",
      "text/plain": [
       "<Figure size 640x480 with 1 Axes>"
      ]
     },
     "metadata": {},
     "output_type": "display_data"
    }
   ],
   "source": [
    "df['Booking Type'].value_counts().plot(kind='bar', title=\"Booking Type Distribution\")\n"
   ]
  },
  {
   "cell_type": "code",
   "execution_count": 47,
   "id": "d0485808",
   "metadata": {},
   "outputs": [
    {
     "data": {
      "image/png": "[encoded data removed]",
      "text/plain": [
       "<Figure size 640x480 with 1 Axes>"
      ]
     },
     "metadata": {},
     "output_type": "display_data"
    }
   ],
   "source": [
    "import seaborn as sns\n",
    "import matplotlib.pyplot as plt\n",
    "\n",
    "sns.scatterplot(x=df['Duration (mins)'], y=df['Price'])\n",
    "plt.title(\"Price vs. Duration\")\n",
    "plt.show()\n"
   ]
  },
  {
   "cell_type": "code",
   "execution_count": 48,
   "id": "3f45dff5",
   "metadata": {},
   "outputs": [
    {
     "data": {
      "image/png": "[encoded data removed]",
      "text/plain": [
       "<Figure size 640x480 with 1 Axes>"
      ]
     },
     "metadata": {},
     "output_type": "display_data"
    }
   ],
   "source": [
    "sns.boxplot(data=df[['Price', 'Duration (mins)']])\n",
    "plt.title(\"Boxplot of Price & Duration\")\n",
    "plt.show()\n",
    "\n"
   ]
  },
  {
   "cell_type": "code",
   "execution_count": 49,
   "id": "ff3f9e1b",
   "metadata": {},
   "outputs": [],
   "source": [
    "df.to_excel(r\"C:\\Users\\KIIT\\OneDrive\\Desktop\\hotel booking\\cleaned_booking_data.xlsx\", index=False)\n",
    "\n",
    "# saving the cleaned data set\n"
   ]
  },
  {
   "cell_type": "code",
   "execution_count": null,
   "id": "e96abfbf",
   "metadata": {},
   "outputs": [],
   "source": []
  }
 ],
 "metadata": {
  "kernelspec": {
   "display_name": "Python 3 (ipykernel)",
   "language": "python",
   "name": "python3"
  },
  "language_info": {
   "codemirror_mode": {
    "name": "ipython",
    "version": 3
   },
   "file_extension": ".py",
   "mimetype": "text/x-python",
   "name": "python",
   "nbconvert_exporter": "python",
   "pygments_lexer": "ipython3",
   "version": "3.9.13"
  }
 },
 "nbformat": 4,
 "nbformat_minor": 5
}
